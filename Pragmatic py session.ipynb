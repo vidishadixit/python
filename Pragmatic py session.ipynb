{
 "cells": [
  {
   "cell_type": "markdown",
   "id": "a3d42dda-2e90-4993-a6bd-c73e8e37af3e",
   "metadata": {},
   "source": [
    "# <span style = \"color: green\">July 17 Python </span>\n",
    "\n",
    "### Ingest Data"
   ]
  },
  {
   "cell_type": "code",
   "execution_count": 1,
   "id": "45245285-e55e-4dd1-9388-b0a9d3ec57eb",
   "metadata": {},
   "outputs": [],
   "source": [
    "import pandas as pd"
   ]
  },
  {
   "cell_type": "code",
   "execution_count": 2,
   "id": "ca77a486-0458-4232-aa96-ea88cc8178a8",
   "metadata": {},
   "outputs": [],
   "source": [
    "robots_df = pd.read_csv(\"robots.csv\")"
   ]
  },
  {
   "cell_type": "code",
   "execution_count": 3,
   "id": "d09a03a2-97f3-4a34-8b62-d3a97abbc091",
   "metadata": {},
   "outputs": [],
   "source": [
    "fights_df = pd.read_csv(\"fights.csv\")"
   ]
  },
  {
   "cell_type": "code",
   "execution_count": 4,
   "id": "42654f92-870d-429b-a61d-e5a76100beb6",
   "metadata": {},
   "outputs": [],
   "source": [
    "teams_df = pd.read_csv(\"teams.csv\")"
   ]
  },
  {
   "cell_type": "code",
   "execution_count": 5,
   "id": "ee3e57f3-363d-4c3e-a491-a4226030adc3",
   "metadata": {},
   "outputs": [],
   "source": [
    "tournaments_df = pd.read_csv(\"tournament_earnings.csv\")"
   ]
  },
  {
   "cell_type": "code",
   "execution_count": 6,
   "id": "004b6100-042c-4a09-a86b-0f5a6a5bf036",
   "metadata": {},
   "outputs": [
    {
     "name": "stdout",
     "output_type": "stream",
     "text": [
      "robots\n"
     ]
    },
    {
     "data": {
      "text/html": [
       "<div>\n",
       "<style scoped>\n",
       "    .dataframe tbody tr th:only-of-type {\n",
       "        vertical-align: middle;\n",
       "    }\n",
       "\n",
       "    .dataframe tbody tr th {\n",
       "        vertical-align: top;\n",
       "    }\n",
       "\n",
       "    .dataframe thead th {\n",
       "        text-align: right;\n",
       "    }\n",
       "</style>\n",
       "<table border=\"1\" class=\"dataframe\">\n",
       "  <thead>\n",
       "    <tr style=\"text-align: right;\">\n",
       "      <th></th>\n",
       "      <th>robot_id</th>\n",
       "      <th>robot_name</th>\n",
       "      <th>weight_class</th>\n",
       "      <th>team_id</th>\n",
       "      <th>attack_power</th>\n",
       "      <th>defense_rating</th>\n",
       "    </tr>\n",
       "  </thead>\n",
       "  <tbody>\n",
       "    <tr>\n",
       "      <th>0</th>\n",
       "      <td>101</td>\n",
       "      <td>TitanFist</td>\n",
       "      <td>Heavyweight</td>\n",
       "      <td>1</td>\n",
       "      <td>95</td>\n",
       "      <td>88</td>\n",
       "    </tr>\n",
       "    <tr>\n",
       "      <th>1</th>\n",
       "      <td>102</td>\n",
       "      <td>MechaRex</td>\n",
       "      <td>Lightweight</td>\n",
       "      <td>2</td>\n",
       "      <td>75</td>\n",
       "      <td>65</td>\n",
       "    </tr>\n",
       "    <tr>\n",
       "      <th>2</th>\n",
       "      <td>103</td>\n",
       "      <td>VoltStriker</td>\n",
       "      <td>Middleweight</td>\n",
       "      <td>3</td>\n",
       "      <td>85</td>\n",
       "      <td>78</td>\n",
       "    </tr>\n",
       "    <tr>\n",
       "      <th>3</th>\n",
       "      <td>104</td>\n",
       "      <td>IronClaw</td>\n",
       "      <td>Heavyweight</td>\n",
       "      <td>1</td>\n",
       "      <td>92</td>\n",
       "      <td>90</td>\n",
       "    </tr>\n",
       "    <tr>\n",
       "      <th>4</th>\n",
       "      <td>105</td>\n",
       "      <td>ShadowViper</td>\n",
       "      <td>Lightweight</td>\n",
       "      <td>2</td>\n",
       "      <td>78</td>\n",
       "      <td>72</td>\n",
       "    </tr>\n",
       "  </tbody>\n",
       "</table>\n",
       "</div>"
      ],
      "text/plain": [
       "   robot_id   robot_name  weight_class  team_id  attack_power  defense_rating\n",
       "0       101    TitanFist   Heavyweight        1            95              88\n",
       "1       102     MechaRex   Lightweight        2            75              65\n",
       "2       103  VoltStriker  Middleweight        3            85              78\n",
       "3       104     IronClaw   Heavyweight        1            92              90\n",
       "4       105  ShadowViper   Lightweight        2            78              72"
      ]
     },
     "metadata": {},
     "output_type": "display_data"
    },
    {
     "name": "stdout",
     "output_type": "stream",
     "text": [
      "fights\n"
     ]
    },
    {
     "data": {
      "text/html": [
       "<div>\n",
       "<style scoped>\n",
       "    .dataframe tbody tr th:only-of-type {\n",
       "        vertical-align: middle;\n",
       "    }\n",
       "\n",
       "    .dataframe tbody tr th {\n",
       "        vertical-align: top;\n",
       "    }\n",
       "\n",
       "    .dataframe thead th {\n",
       "        text-align: right;\n",
       "    }\n",
       "</style>\n",
       "<table border=\"1\" class=\"dataframe\">\n",
       "  <thead>\n",
       "    <tr style=\"text-align: right;\">\n",
       "      <th></th>\n",
       "      <th>fight_id</th>\n",
       "      <th>winner_id</th>\n",
       "      <th>loser_id</th>\n",
       "      <th>damage_dealt</th>\n",
       "      <th>fight_duration_sec</th>\n",
       "    </tr>\n",
       "  </thead>\n",
       "  <tbody>\n",
       "    <tr>\n",
       "      <th>0</th>\n",
       "      <td>201</td>\n",
       "      <td>101</td>\n",
       "      <td>103</td>\n",
       "      <td>56</td>\n",
       "      <td>120</td>\n",
       "    </tr>\n",
       "    <tr>\n",
       "      <th>1</th>\n",
       "      <td>202</td>\n",
       "      <td>102</td>\n",
       "      <td>105</td>\n",
       "      <td>40</td>\n",
       "      <td>98</td>\n",
       "    </tr>\n",
       "    <tr>\n",
       "      <th>2</th>\n",
       "      <td>203</td>\n",
       "      <td>103</td>\n",
       "      <td>102</td>\n",
       "      <td>48</td>\n",
       "      <td>110</td>\n",
       "    </tr>\n",
       "    <tr>\n",
       "      <th>3</th>\n",
       "      <td>204</td>\n",
       "      <td>101</td>\n",
       "      <td>104</td>\n",
       "      <td>72</td>\n",
       "      <td>150</td>\n",
       "    </tr>\n",
       "    <tr>\n",
       "      <th>4</th>\n",
       "      <td>205</td>\n",
       "      <td>105</td>\n",
       "      <td>102</td>\n",
       "      <td>38</td>\n",
       "      <td>85</td>\n",
       "    </tr>\n",
       "  </tbody>\n",
       "</table>\n",
       "</div>"
      ],
      "text/plain": [
       "   fight_id  winner_id  loser_id  damage_dealt  fight_duration_sec\n",
       "0       201        101       103            56                 120\n",
       "1       202        102       105            40                  98\n",
       "2       203        103       102            48                 110\n",
       "3       204        101       104            72                 150\n",
       "4       205        105       102            38                  85"
      ]
     },
     "metadata": {},
     "output_type": "display_data"
    },
    {
     "name": "stdout",
     "output_type": "stream",
     "text": [
      "teams\n"
     ]
    },
    {
     "data": {
      "text/html": [
       "<div>\n",
       "<style scoped>\n",
       "    .dataframe tbody tr th:only-of-type {\n",
       "        vertical-align: middle;\n",
       "    }\n",
       "\n",
       "    .dataframe tbody tr th {\n",
       "        vertical-align: top;\n",
       "    }\n",
       "\n",
       "    .dataframe thead th {\n",
       "        text-align: right;\n",
       "    }\n",
       "</style>\n",
       "<table border=\"1\" class=\"dataframe\">\n",
       "  <thead>\n",
       "    <tr style=\"text-align: right;\">\n",
       "      <th></th>\n",
       "      <th>team_id</th>\n",
       "      <th>team_name</th>\n",
       "      <th>lead_engineer</th>\n",
       "      <th>founded_year</th>\n",
       "      <th>headquarters</th>\n",
       "    </tr>\n",
       "  </thead>\n",
       "  <tbody>\n",
       "    <tr>\n",
       "      <th>0</th>\n",
       "      <td>1</td>\n",
       "      <td>Steel Titans</td>\n",
       "      <td>Dr. Nova</td>\n",
       "      <td>2020</td>\n",
       "      <td>Neo Tokyo</td>\n",
       "    </tr>\n",
       "    <tr>\n",
       "      <th>1</th>\n",
       "      <td>2</td>\n",
       "      <td>Cyber Warriors</td>\n",
       "      <td>Prof. Kline</td>\n",
       "      <td>2018</td>\n",
       "      <td>Silicon Valley</td>\n",
       "    </tr>\n",
       "    <tr>\n",
       "      <th>2</th>\n",
       "      <td>3</td>\n",
       "      <td>Mecha Masters</td>\n",
       "      <td>Eng. Orion</td>\n",
       "      <td>2019</td>\n",
       "      <td>Berlin</td>\n",
       "    </tr>\n",
       "  </tbody>\n",
       "</table>\n",
       "</div>"
      ],
      "text/plain": [
       "   team_id       team_name lead_engineer  founded_year    headquarters\n",
       "0        1    Steel Titans      Dr. Nova          2020       Neo Tokyo\n",
       "1        2  Cyber Warriors   Prof. Kline          2018  Silicon Valley\n",
       "2        3   Mecha Masters    Eng. Orion          2019          Berlin"
      ]
     },
     "metadata": {},
     "output_type": "display_data"
    },
    {
     "name": "stdout",
     "output_type": "stream",
     "text": [
      "tour\n"
     ]
    },
    {
     "data": {
      "text/html": [
       "<div>\n",
       "<style scoped>\n",
       "    .dataframe tbody tr th:only-of-type {\n",
       "        vertical-align: middle;\n",
       "    }\n",
       "\n",
       "    .dataframe tbody tr th {\n",
       "        vertical-align: top;\n",
       "    }\n",
       "\n",
       "    .dataframe thead th {\n",
       "        text-align: right;\n",
       "    }\n",
       "</style>\n",
       "<table border=\"1\" class=\"dataframe\">\n",
       "  <thead>\n",
       "    <tr style=\"text-align: right;\">\n",
       "      <th></th>\n",
       "      <th>robot_id</th>\n",
       "      <th>tournament</th>\n",
       "      <th>earnings</th>\n",
       "    </tr>\n",
       "  </thead>\n",
       "  <tbody>\n",
       "    <tr>\n",
       "      <th>0</th>\n",
       "      <td>101</td>\n",
       "      <td>Steel Showdown</td>\n",
       "      <td>$5,000</td>\n",
       "    </tr>\n",
       "    <tr>\n",
       "      <th>1</th>\n",
       "      <td>102</td>\n",
       "      <td>Cyber Clash</td>\n",
       "      <td>$2,500</td>\n",
       "    </tr>\n",
       "    <tr>\n",
       "      <th>2</th>\n",
       "      <td>103</td>\n",
       "      <td>Mech Madness</td>\n",
       "      <td>$3,200</td>\n",
       "    </tr>\n",
       "    <tr>\n",
       "      <th>3</th>\n",
       "      <td>104</td>\n",
       "      <td>Steel Showdown</td>\n",
       "      <td>$4,100</td>\n",
       "    </tr>\n",
       "    <tr>\n",
       "      <th>4</th>\n",
       "      <td>105</td>\n",
       "      <td>Cyber Clash</td>\n",
       "      <td>$2,800</td>\n",
       "    </tr>\n",
       "    <tr>\n",
       "      <th>5</th>\n",
       "      <td>105</td>\n",
       "      <td>Hardware Defiance</td>\n",
       "      <td>$1,800</td>\n",
       "    </tr>\n",
       "    <tr>\n",
       "      <th>6</th>\n",
       "      <td>103</td>\n",
       "      <td>Hardware Defiance</td>\n",
       "      <td>$3,200</td>\n",
       "    </tr>\n",
       "  </tbody>\n",
       "</table>\n",
       "</div>"
      ],
      "text/plain": [
       "   robot_id         tournament earnings\n",
       "0       101     Steel Showdown   $5,000\n",
       "1       102        Cyber Clash   $2,500\n",
       "2       103       Mech Madness   $3,200\n",
       "3       104     Steel Showdown   $4,100\n",
       "4       105        Cyber Clash   $2,800\n",
       "5       105  Hardware Defiance   $1,800\n",
       "6       103  Hardware Defiance   $3,200"
      ]
     },
     "metadata": {},
     "output_type": "display_data"
    }
   ],
   "source": [
    "print(\"robots\")\n",
    "display(robots_df)\n",
    "print(\"fights\")\n",
    "display(fights_df)\n",
    "print(\"teams\")\n",
    "display(teams_df)\n",
    "print(\"tour\")\n",
    "display(tournaments_df)"
   ]
  },
  {
   "cell_type": "code",
   "execution_count": 7,
   "id": "fab749c0-655c-4ca4-8d4e-6f8a4b68ae69",
   "metadata": {},
   "outputs": [],
   "source": [
    "strong_robots = robots_df[robots_df.attack_power > 85]"
   ]
  },
  {
   "cell_type": "code",
   "execution_count": 8,
   "id": "33f29ea5-12c8-44a1-96a2-157012ee2c61",
   "metadata": {},
   "outputs": [
    {
     "data": {
      "text/html": [
       "<div>\n",
       "<style scoped>\n",
       "    .dataframe tbody tr th:only-of-type {\n",
       "        vertical-align: middle;\n",
       "    }\n",
       "\n",
       "    .dataframe tbody tr th {\n",
       "        vertical-align: top;\n",
       "    }\n",
       "\n",
       "    .dataframe thead th {\n",
       "        text-align: right;\n",
       "    }\n",
       "</style>\n",
       "<table border=\"1\" class=\"dataframe\">\n",
       "  <thead>\n",
       "    <tr style=\"text-align: right;\">\n",
       "      <th></th>\n",
       "      <th>robot_id</th>\n",
       "      <th>robot_name</th>\n",
       "      <th>weight_class</th>\n",
       "      <th>team_id</th>\n",
       "      <th>attack_power</th>\n",
       "      <th>defense_rating</th>\n",
       "    </tr>\n",
       "  </thead>\n",
       "  <tbody>\n",
       "    <tr>\n",
       "      <th>0</th>\n",
       "      <td>101</td>\n",
       "      <td>TitanFist</td>\n",
       "      <td>Heavyweight</td>\n",
       "      <td>1</td>\n",
       "      <td>95</td>\n",
       "      <td>88</td>\n",
       "    </tr>\n",
       "    <tr>\n",
       "      <th>3</th>\n",
       "      <td>104</td>\n",
       "      <td>IronClaw</td>\n",
       "      <td>Heavyweight</td>\n",
       "      <td>1</td>\n",
       "      <td>92</td>\n",
       "      <td>90</td>\n",
       "    </tr>\n",
       "  </tbody>\n",
       "</table>\n",
       "</div>"
      ],
      "text/plain": [
       "   robot_id robot_name weight_class  team_id  attack_power  defense_rating\n",
       "0       101  TitanFist  Heavyweight        1            95              88\n",
       "3       104   IronClaw  Heavyweight        1            92              90"
      ]
     },
     "execution_count": 8,
     "metadata": {},
     "output_type": "execute_result"
    }
   ],
   "source": [
    "strong_robots"
   ]
  },
  {
   "cell_type": "code",
   "execution_count": 9,
   "id": "5a44978f-f8ab-41d8-8766-4549e67314ea",
   "metadata": {},
   "outputs": [
    {
     "data": {
      "text/plain": [
       "0     True\n",
       "1    False\n",
       "2    False\n",
       "3     True\n",
       "4    False\n",
       "Name: attack_power, dtype: bool"
      ]
     },
     "execution_count": 9,
     "metadata": {},
     "output_type": "execute_result"
    }
   ],
   "source": [
    "robots_df.attack_power >85"
   ]
  },
  {
   "cell_type": "code",
   "execution_count": 11,
   "id": "c533f675-b89d-48db-a3d8-5ab770d7f03c",
   "metadata": {},
   "outputs": [],
   "source": [
    "strong_robots = robots_df[robots_df.attack_power > 85][['robot_id','attack_power']]"
   ]
  },
  {
   "cell_type": "code",
   "execution_count": 12,
   "id": "c753691d-6e27-4077-8229-bcf2ba40f0b0",
   "metadata": {},
   "outputs": [
    {
     "data": {
      "text/html": [
       "<div>\n",
       "<style scoped>\n",
       "    .dataframe tbody tr th:only-of-type {\n",
       "        vertical-align: middle;\n",
       "    }\n",
       "\n",
       "    .dataframe tbody tr th {\n",
       "        vertical-align: top;\n",
       "    }\n",
       "\n",
       "    .dataframe thead th {\n",
       "        text-align: right;\n",
       "    }\n",
       "</style>\n",
       "<table border=\"1\" class=\"dataframe\">\n",
       "  <thead>\n",
       "    <tr style=\"text-align: right;\">\n",
       "      <th></th>\n",
       "      <th>robot_id</th>\n",
       "      <th>attack_power</th>\n",
       "    </tr>\n",
       "  </thead>\n",
       "  <tbody>\n",
       "    <tr>\n",
       "      <th>0</th>\n",
       "      <td>101</td>\n",
       "      <td>95</td>\n",
       "    </tr>\n",
       "    <tr>\n",
       "      <th>3</th>\n",
       "      <td>104</td>\n",
       "      <td>92</td>\n",
       "    </tr>\n",
       "  </tbody>\n",
       "</table>\n",
       "</div>"
      ],
      "text/plain": [
       "   robot_id  attack_power\n",
       "0       101            95\n",
       "3       104            92"
      ]
     },
     "execution_count": 12,
     "metadata": {},
     "output_type": "execute_result"
    }
   ],
   "source": [
    "strong_robots"
   ]
  },
  {
   "cell_type": "markdown",
   "id": "39af391f-e35f-4caa-bba2-736ba4687607",
   "metadata": {},
   "source": [
    "# IL and IC i lock and lock"
   ]
  },
  {
   "cell_type": "code",
   "execution_count": 13,
   "id": "6a86d533-8786-4759-871a-cf97c4463bfe",
   "metadata": {},
   "outputs": [
    {
     "data": {
      "text/plain": [
       "robot_id           int64\n",
       "robot_name        object\n",
       "weight_class      object\n",
       "team_id            int64\n",
       "attack_power       int64\n",
       "defense_rating     int64\n",
       "dtype: object"
      ]
     },
     "execution_count": 13,
     "metadata": {},
     "output_type": "execute_result"
    }
   ],
   "source": [
    "robots_df.dtypes"
   ]
  },
  {
   "cell_type": "code",
   "execution_count": 14,
   "id": "0eefae7f-15b5-4f59-aa00-342e364c0d9d",
   "metadata": {},
   "outputs": [
    {
     "data": {
      "text/plain": [
       "fight_id              int64\n",
       "winner_id             int64\n",
       "loser_id              int64\n",
       "damage_dealt          int64\n",
       "fight_duration_sec    int64\n",
       "dtype: object"
      ]
     },
     "execution_count": 14,
     "metadata": {},
     "output_type": "execute_result"
    }
   ],
   "source": [
    "fights_df.dtypes"
   ]
  },
  {
   "cell_type": "code",
   "execution_count": 15,
   "id": "e28a0736-da14-403f-abca-10516312c1c1",
   "metadata": {},
   "outputs": [
    {
     "data": {
      "text/plain": [
       "team_id           int64\n",
       "team_name        object\n",
       "lead_engineer    object\n",
       "founded_year      int64\n",
       "headquarters     object\n",
       "dtype: object"
      ]
     },
     "execution_count": 15,
     "metadata": {},
     "output_type": "execute_result"
    }
   ],
   "source": [
    "teams_df.dtypes"
   ]
  },
  {
   "cell_type": "code",
   "execution_count": 16,
   "id": "a4ecca15-5f65-42bc-8199-ace1a067de21",
   "metadata": {},
   "outputs": [
    {
     "data": {
      "text/plain": [
       "robot_id       int64\n",
       "tournament    object\n",
       "earnings      object\n",
       "dtype: object"
      ]
     },
     "execution_count": 16,
     "metadata": {},
     "output_type": "execute_result"
    }
   ],
   "source": [
    "tournaments_df.dtypes"
   ]
  },
  {
   "cell_type": "markdown",
   "id": "8ad0d7e0-6766-4eb7-9751-967b8e41ba40",
   "metadata": {},
   "source": [
    "### stat operations in describe, executable function"
   ]
  },
  {
   "cell_type": "code",
   "execution_count": 17,
   "id": "b4226ca8-fd10-4cf5-8953-6b43d3d44a1d",
   "metadata": {},
   "outputs": [
    {
     "data": {
      "text/html": [
       "<div>\n",
       "<style scoped>\n",
       "    .dataframe tbody tr th:only-of-type {\n",
       "        vertical-align: middle;\n",
       "    }\n",
       "\n",
       "    .dataframe tbody tr th {\n",
       "        vertical-align: top;\n",
       "    }\n",
       "\n",
       "    .dataframe thead th {\n",
       "        text-align: right;\n",
       "    }\n",
       "</style>\n",
       "<table border=\"1\" class=\"dataframe\">\n",
       "  <thead>\n",
       "    <tr style=\"text-align: right;\">\n",
       "      <th></th>\n",
       "      <th>robot_id</th>\n",
       "      <th>team_id</th>\n",
       "      <th>attack_power</th>\n",
       "      <th>defense_rating</th>\n",
       "    </tr>\n",
       "  </thead>\n",
       "  <tbody>\n",
       "    <tr>\n",
       "      <th>count</th>\n",
       "      <td>5.000000</td>\n",
       "      <td>5.00000</td>\n",
       "      <td>5.000000</td>\n",
       "      <td>5.000000</td>\n",
       "    </tr>\n",
       "    <tr>\n",
       "      <th>mean</th>\n",
       "      <td>103.000000</td>\n",
       "      <td>1.80000</td>\n",
       "      <td>85.000000</td>\n",
       "      <td>78.600000</td>\n",
       "    </tr>\n",
       "    <tr>\n",
       "      <th>std</th>\n",
       "      <td>1.581139</td>\n",
       "      <td>0.83666</td>\n",
       "      <td>8.631338</td>\n",
       "      <td>10.573552</td>\n",
       "    </tr>\n",
       "    <tr>\n",
       "      <th>min</th>\n",
       "      <td>101.000000</td>\n",
       "      <td>1.00000</td>\n",
       "      <td>75.000000</td>\n",
       "      <td>65.000000</td>\n",
       "    </tr>\n",
       "    <tr>\n",
       "      <th>25%</th>\n",
       "      <td>102.000000</td>\n",
       "      <td>1.00000</td>\n",
       "      <td>78.000000</td>\n",
       "      <td>72.000000</td>\n",
       "    </tr>\n",
       "    <tr>\n",
       "      <th>50%</th>\n",
       "      <td>103.000000</td>\n",
       "      <td>2.00000</td>\n",
       "      <td>85.000000</td>\n",
       "      <td>78.000000</td>\n",
       "    </tr>\n",
       "    <tr>\n",
       "      <th>75%</th>\n",
       "      <td>104.000000</td>\n",
       "      <td>2.00000</td>\n",
       "      <td>92.000000</td>\n",
       "      <td>88.000000</td>\n",
       "    </tr>\n",
       "    <tr>\n",
       "      <th>max</th>\n",
       "      <td>105.000000</td>\n",
       "      <td>3.00000</td>\n",
       "      <td>95.000000</td>\n",
       "      <td>90.000000</td>\n",
       "    </tr>\n",
       "  </tbody>\n",
       "</table>\n",
       "</div>"
      ],
      "text/plain": [
       "         robot_id  team_id  attack_power  defense_rating\n",
       "count    5.000000  5.00000      5.000000        5.000000\n",
       "mean   103.000000  1.80000     85.000000       78.600000\n",
       "std      1.581139  0.83666      8.631338       10.573552\n",
       "min    101.000000  1.00000     75.000000       65.000000\n",
       "25%    102.000000  1.00000     78.000000       72.000000\n",
       "50%    103.000000  2.00000     85.000000       78.000000\n",
       "75%    104.000000  2.00000     92.000000       88.000000\n",
       "max    105.000000  3.00000     95.000000       90.000000"
      ]
     },
     "execution_count": 17,
     "metadata": {},
     "output_type": "execute_result"
    }
   ],
   "source": [
    "robots_df.describe()"
   ]
  },
  {
   "cell_type": "markdown",
   "id": "f28e029e-70e6-476e-8b48-d1bed902ff9f",
   "metadata": {},
   "source": [
    "### change datatypes"
   ]
  },
  {
   "cell_type": "code",
   "execution_count": 19,
   "id": "1a88629b-c41b-4029-b0b9-5d4d0866d124",
   "metadata": {},
   "outputs": [],
   "source": [
    "robots_df.robot_name = robots_df.robot_name.astype('string')"
   ]
  },
  {
   "cell_type": "code",
   "execution_count": 20,
   "id": "81cf3e87-f40b-4ec8-a75d-87058cc5004f",
   "metadata": {},
   "outputs": [
    {
     "data": {
      "text/plain": [
       "robot_id                   int64\n",
       "robot_name        string[python]\n",
       "weight_class              object\n",
       "team_id                    int64\n",
       "attack_power               int64\n",
       "defense_rating             int64\n",
       "dtype: object"
      ]
     },
     "execution_count": 20,
     "metadata": {},
     "output_type": "execute_result"
    }
   ],
   "source": [
    "robots_df.dtypes"
   ]
  },
  {
   "cell_type": "markdown",
   "id": "2c1086e4-3002-4fa4-bce4-176fe2420dcc",
   "metadata": {},
   "source": [
    "### how many won - group by function"
   ]
  },
  {
   "cell_type": "code",
   "execution_count": 21,
   "id": "9d3a8312-98ec-4213-9254-4766283fc5e7",
   "metadata": {},
   "outputs": [
    {
     "data": {
      "text/html": [
       "<div>\n",
       "<style scoped>\n",
       "    .dataframe tbody tr th:only-of-type {\n",
       "        vertical-align: middle;\n",
       "    }\n",
       "\n",
       "    .dataframe tbody tr th {\n",
       "        vertical-align: top;\n",
       "    }\n",
       "\n",
       "    .dataframe thead th {\n",
       "        text-align: right;\n",
       "    }\n",
       "</style>\n",
       "<table border=\"1\" class=\"dataframe\">\n",
       "  <thead>\n",
       "    <tr style=\"text-align: right;\">\n",
       "      <th></th>\n",
       "      <th>fight_id</th>\n",
       "      <th>winner_id</th>\n",
       "      <th>loser_id</th>\n",
       "      <th>damage_dealt</th>\n",
       "      <th>fight_duration_sec</th>\n",
       "    </tr>\n",
       "  </thead>\n",
       "  <tbody>\n",
       "    <tr>\n",
       "      <th>0</th>\n",
       "      <td>201</td>\n",
       "      <td>101</td>\n",
       "      <td>103</td>\n",
       "      <td>56</td>\n",
       "      <td>120</td>\n",
       "    </tr>\n",
       "    <tr>\n",
       "      <th>1</th>\n",
       "      <td>202</td>\n",
       "      <td>102</td>\n",
       "      <td>105</td>\n",
       "      <td>40</td>\n",
       "      <td>98</td>\n",
       "    </tr>\n",
       "    <tr>\n",
       "      <th>2</th>\n",
       "      <td>203</td>\n",
       "      <td>103</td>\n",
       "      <td>102</td>\n",
       "      <td>48</td>\n",
       "      <td>110</td>\n",
       "    </tr>\n",
       "    <tr>\n",
       "      <th>3</th>\n",
       "      <td>204</td>\n",
       "      <td>101</td>\n",
       "      <td>104</td>\n",
       "      <td>72</td>\n",
       "      <td>150</td>\n",
       "    </tr>\n",
       "    <tr>\n",
       "      <th>4</th>\n",
       "      <td>205</td>\n",
       "      <td>105</td>\n",
       "      <td>102</td>\n",
       "      <td>38</td>\n",
       "      <td>85</td>\n",
       "    </tr>\n",
       "  </tbody>\n",
       "</table>\n",
       "</div>"
      ],
      "text/plain": [
       "   fight_id  winner_id  loser_id  damage_dealt  fight_duration_sec\n",
       "0       201        101       103            56                 120\n",
       "1       202        102       105            40                  98\n",
       "2       203        103       102            48                 110\n",
       "3       204        101       104            72                 150\n",
       "4       205        105       102            38                  85"
      ]
     },
     "execution_count": 21,
     "metadata": {},
     "output_type": "execute_result"
    }
   ],
   "source": [
    "fights_df"
   ]
  },
  {
   "cell_type": "code",
   "execution_count": 22,
   "id": "f18fa7fb-6a84-49a5-a966-4f22c838b98b",
   "metadata": {},
   "outputs": [],
   "source": [
    "winners_count = fights_df.groupby(\"winner_id\")"
   ]
  },
  {
   "cell_type": "code",
   "execution_count": 23,
   "id": "7b327c86-d4c0-4bee-b1cd-b9e45b9f24e8",
   "metadata": {},
   "outputs": [
    {
     "data": {
      "text/plain": [
       "<pandas.core.groupby.generic.DataFrameGroupBy object at 0x00000216287CF620>"
      ]
     },
     "execution_count": 23,
     "metadata": {},
     "output_type": "execute_result"
    }
   ],
   "source": [
    "winners_count"
   ]
  },
  {
   "cell_type": "code",
   "execution_count": 28,
   "id": "18858ac6-e29a-463e-90f2-9031c0f1e702",
   "metadata": {},
   "outputs": [],
   "source": [
    "winners_count = fights_df.groupby(\"winner_id\", as_index=False)['fight_id'].count()"
   ]
  },
  {
   "cell_type": "code",
   "execution_count": 31,
   "id": "24dc64e7-af19-4fe0-8f3b-14f3cd5a011d",
   "metadata": {},
   "outputs": [
    {
     "data": {
      "text/html": [
       "<div>\n",
       "<style scoped>\n",
       "    .dataframe tbody tr th:only-of-type {\n",
       "        vertical-align: middle;\n",
       "    }\n",
       "\n",
       "    .dataframe tbody tr th {\n",
       "        vertical-align: top;\n",
       "    }\n",
       "\n",
       "    .dataframe thead th {\n",
       "        text-align: right;\n",
       "    }\n",
       "</style>\n",
       "<table border=\"1\" class=\"dataframe\">\n",
       "  <thead>\n",
       "    <tr style=\"text-align: right;\">\n",
       "      <th></th>\n",
       "      <th>winner_id</th>\n",
       "      <th>fight_id</th>\n",
       "    </tr>\n",
       "  </thead>\n",
       "  <tbody>\n",
       "    <tr>\n",
       "      <th>0</th>\n",
       "      <td>101</td>\n",
       "      <td>2</td>\n",
       "    </tr>\n",
       "    <tr>\n",
       "      <th>1</th>\n",
       "      <td>102</td>\n",
       "      <td>1</td>\n",
       "    </tr>\n",
       "    <tr>\n",
       "      <th>2</th>\n",
       "      <td>103</td>\n",
       "      <td>1</td>\n",
       "    </tr>\n",
       "    <tr>\n",
       "      <th>3</th>\n",
       "      <td>105</td>\n",
       "      <td>1</td>\n",
       "    </tr>\n",
       "  </tbody>\n",
       "</table>\n",
       "</div>"
      ],
      "text/plain": [
       "   winner_id  fight_id\n",
       "0        101         2\n",
       "1        102         1\n",
       "2        103         1\n",
       "3        105         1"
      ]
     },
     "execution_count": 31,
     "metadata": {},
     "output_type": "execute_result"
    }
   ],
   "source": [
    "winners_count"
   ]
  },
  {
   "cell_type": "markdown",
   "id": "764b5615-17e5-4717-878a-027b7de43d4f",
   "metadata": {},
   "source": [
    "### series"
   ]
  },
  {
   "cell_type": "code",
   "execution_count": 32,
   "id": "4333cb17-94e3-4955-918d-c4c73f0ed2ff",
   "metadata": {},
   "outputs": [
    {
     "data": {
      "text/plain": [
       "winner_id\n",
       "101    2\n",
       "102    1\n",
       "103    1\n",
       "105    1\n",
       "Name: fight_id, dtype: int64"
      ]
     },
     "execution_count": 32,
     "metadata": {},
     "output_type": "execute_result"
    }
   ],
   "source": [
    "winners_count = fights_df.groupby(\"winner_id\")['fight_id'].count()\n",
    "winners_count"
   ]
  },
  {
   "cell_type": "code",
   "execution_count": 36,
   "id": "18f404fc-240d-4dc6-90e8-15a2f9b830a7",
   "metadata": {},
   "outputs": [
    {
     "data": {
      "text/html": [
       "<div>\n",
       "<style scoped>\n",
       "    .dataframe tbody tr th:only-of-type {\n",
       "        vertical-align: middle;\n",
       "    }\n",
       "\n",
       "    .dataframe tbody tr th {\n",
       "        vertical-align: top;\n",
       "    }\n",
       "\n",
       "    .dataframe thead th {\n",
       "        text-align: right;\n",
       "    }\n",
       "</style>\n",
       "<table border=\"1\" class=\"dataframe\">\n",
       "  <thead>\n",
       "    <tr style=\"text-align: right;\">\n",
       "      <th></th>\n",
       "      <th>robot_id</th>\n",
       "      <th>fights_won</th>\n",
       "    </tr>\n",
       "  </thead>\n",
       "  <tbody>\n",
       "    <tr>\n",
       "      <th>0</th>\n",
       "      <td>101</td>\n",
       "      <td>2</td>\n",
       "    </tr>\n",
       "    <tr>\n",
       "      <th>1</th>\n",
       "      <td>102</td>\n",
       "      <td>1</td>\n",
       "    </tr>\n",
       "    <tr>\n",
       "      <th>2</th>\n",
       "      <td>103</td>\n",
       "      <td>1</td>\n",
       "    </tr>\n",
       "    <tr>\n",
       "      <th>3</th>\n",
       "      <td>105</td>\n",
       "      <td>1</td>\n",
       "    </tr>\n",
       "  </tbody>\n",
       "</table>\n",
       "</div>"
      ],
      "text/plain": [
       "   robot_id  fights_won\n",
       "0       101           2\n",
       "1       102           1\n",
       "2       103           1\n",
       "3       105           1"
      ]
     },
     "execution_count": 36,
     "metadata": {},
     "output_type": "execute_result"
    }
   ],
   "source": [
    "#this is the count that robots have won\n",
    "winners_count = fights_df.groupby(\"winner_id\", as_index=False)['fight_id'].count()\n",
    "winners_count.columns = [\"robot_id\", \"fights_won\"]\n",
    "winners_count"
   ]
  },
  {
   "cell_type": "code",
   "execution_count": 39,
   "id": "8965adb4-6795-40ba-baec-a401c0794908",
   "metadata": {},
   "outputs": [
    {
     "data": {
      "text/html": [
       "<div>\n",
       "<style scoped>\n",
       "    .dataframe tbody tr th:only-of-type {\n",
       "        vertical-align: middle;\n",
       "    }\n",
       "\n",
       "    .dataframe tbody tr th {\n",
       "        vertical-align: top;\n",
       "    }\n",
       "\n",
       "    .dataframe thead th {\n",
       "        text-align: right;\n",
       "    }\n",
       "</style>\n",
       "<table border=\"1\" class=\"dataframe\">\n",
       "  <thead>\n",
       "    <tr style=\"text-align: right;\">\n",
       "      <th></th>\n",
       "      <th>robot_id</th>\n",
       "      <th>fights_lost</th>\n",
       "    </tr>\n",
       "  </thead>\n",
       "  <tbody>\n",
       "    <tr>\n",
       "      <th>0</th>\n",
       "      <td>102</td>\n",
       "      <td>2</td>\n",
       "    </tr>\n",
       "    <tr>\n",
       "      <th>1</th>\n",
       "      <td>103</td>\n",
       "      <td>1</td>\n",
       "    </tr>\n",
       "    <tr>\n",
       "      <th>2</th>\n",
       "      <td>104</td>\n",
       "      <td>1</td>\n",
       "    </tr>\n",
       "    <tr>\n",
       "      <th>3</th>\n",
       "      <td>105</td>\n",
       "      <td>1</td>\n",
       "    </tr>\n",
       "  </tbody>\n",
       "</table>\n",
       "</div>"
      ],
      "text/plain": [
       "   robot_id  fights_lost\n",
       "0       102            2\n",
       "1       103            1\n",
       "2       104            1\n",
       "3       105            1"
      ]
     },
     "execution_count": 39,
     "metadata": {},
     "output_type": "execute_result"
    }
   ],
   "source": [
    "losers_count = fights_df.groupby(\"loser_id\")['fight_id'].count().reset_index()\n",
    "losers_count.columns = [\"robot_id\", \"fights_lost\"]\n",
    "losers_count"
   ]
  },
  {
   "cell_type": "code",
   "execution_count": 42,
   "id": "19edc493-4907-49ae-9324-9fb20daaa66d",
   "metadata": {},
   "outputs": [
    {
     "data": {
      "text/html": [
       "<div>\n",
       "<style scoped>\n",
       "    .dataframe tbody tr th:only-of-type {\n",
       "        vertical-align: middle;\n",
       "    }\n",
       "\n",
       "    .dataframe tbody tr th {\n",
       "        vertical-align: top;\n",
       "    }\n",
       "\n",
       "    .dataframe thead th {\n",
       "        text-align: right;\n",
       "    }\n",
       "</style>\n",
       "<table border=\"1\" class=\"dataframe\">\n",
       "  <thead>\n",
       "    <tr style=\"text-align: right;\">\n",
       "      <th></th>\n",
       "      <th>robot_id</th>\n",
       "      <th>fights_won</th>\n",
       "      <th>fights_lost</th>\n",
       "    </tr>\n",
       "  </thead>\n",
       "  <tbody>\n",
       "    <tr>\n",
       "      <th>0</th>\n",
       "      <td>101</td>\n",
       "      <td>2.0</td>\n",
       "      <td>NaN</td>\n",
       "    </tr>\n",
       "    <tr>\n",
       "      <th>1</th>\n",
       "      <td>102</td>\n",
       "      <td>1.0</td>\n",
       "      <td>2.0</td>\n",
       "    </tr>\n",
       "    <tr>\n",
       "      <th>2</th>\n",
       "      <td>103</td>\n",
       "      <td>1.0</td>\n",
       "      <td>1.0</td>\n",
       "    </tr>\n",
       "    <tr>\n",
       "      <th>3</th>\n",
       "      <td>104</td>\n",
       "      <td>NaN</td>\n",
       "      <td>1.0</td>\n",
       "    </tr>\n",
       "    <tr>\n",
       "      <th>4</th>\n",
       "      <td>105</td>\n",
       "      <td>1.0</td>\n",
       "      <td>1.0</td>\n",
       "    </tr>\n",
       "  </tbody>\n",
       "</table>\n",
       "</div>"
      ],
      "text/plain": [
       "   robot_id  fights_won  fights_lost\n",
       "0       101         2.0          NaN\n",
       "1       102         1.0          2.0\n",
       "2       103         1.0          1.0\n",
       "3       104         NaN          1.0\n",
       "4       105         1.0          1.0"
      ]
     },
     "execution_count": 42,
     "metadata": {},
     "output_type": "execute_result"
    }
   ],
   "source": [
    "win_loss_stats = pd.merge(winners_count,losers_count, on =\"robot_id\", how = \"outer\")\n",
    "win_loss_stats"
   ]
  },
  {
   "cell_type": "code",
   "execution_count": 44,
   "id": "f5155596-829f-4ff9-8702-70695e745bfc",
   "metadata": {},
   "outputs": [
    {
     "data": {
      "text/html": [
       "<div>\n",
       "<style scoped>\n",
       "    .dataframe tbody tr th:only-of-type {\n",
       "        vertical-align: middle;\n",
       "    }\n",
       "\n",
       "    .dataframe tbody tr th {\n",
       "        vertical-align: top;\n",
       "    }\n",
       "\n",
       "    .dataframe thead th {\n",
       "        text-align: right;\n",
       "    }\n",
       "</style>\n",
       "<table border=\"1\" class=\"dataframe\">\n",
       "  <thead>\n",
       "    <tr style=\"text-align: right;\">\n",
       "      <th></th>\n",
       "      <th>robot_id</th>\n",
       "      <th>fights_won</th>\n",
       "      <th>fights_lost</th>\n",
       "    </tr>\n",
       "  </thead>\n",
       "  <tbody>\n",
       "    <tr>\n",
       "      <th>0</th>\n",
       "      <td>101</td>\n",
       "      <td>2.0</td>\n",
       "      <td>0.0</td>\n",
       "    </tr>\n",
       "    <tr>\n",
       "      <th>1</th>\n",
       "      <td>102</td>\n",
       "      <td>1.0</td>\n",
       "      <td>2.0</td>\n",
       "    </tr>\n",
       "    <tr>\n",
       "      <th>2</th>\n",
       "      <td>103</td>\n",
       "      <td>1.0</td>\n",
       "      <td>1.0</td>\n",
       "    </tr>\n",
       "    <tr>\n",
       "      <th>3</th>\n",
       "      <td>104</td>\n",
       "      <td>0.0</td>\n",
       "      <td>1.0</td>\n",
       "    </tr>\n",
       "    <tr>\n",
       "      <th>4</th>\n",
       "      <td>105</td>\n",
       "      <td>1.0</td>\n",
       "      <td>1.0</td>\n",
       "    </tr>\n",
       "  </tbody>\n",
       "</table>\n",
       "</div>"
      ],
      "text/plain": [
       "   robot_id  fights_won  fights_lost\n",
       "0       101         2.0          0.0\n",
       "1       102         1.0          2.0\n",
       "2       103         1.0          1.0\n",
       "3       104         0.0          1.0\n",
       "4       105         1.0          1.0"
      ]
     },
     "execution_count": 44,
     "metadata": {},
     "output_type": "execute_result"
    }
   ],
   "source": [
    "# fill null values\n",
    "win_loss_stats.fillna(0)"
   ]
  },
  {
   "cell_type": "code",
   "execution_count": 45,
   "id": "12a83f53-8af4-408c-8e07-b1868cfda387",
   "metadata": {},
   "outputs": [
    {
     "data": {
      "text/html": [
       "<div>\n",
       "<style scoped>\n",
       "    .dataframe tbody tr th:only-of-type {\n",
       "        vertical-align: middle;\n",
       "    }\n",
       "\n",
       "    .dataframe tbody tr th {\n",
       "        vertical-align: top;\n",
       "    }\n",
       "\n",
       "    .dataframe thead th {\n",
       "        text-align: right;\n",
       "    }\n",
       "</style>\n",
       "<table border=\"1\" class=\"dataframe\">\n",
       "  <thead>\n",
       "    <tr style=\"text-align: right;\">\n",
       "      <th></th>\n",
       "      <th>robot_id</th>\n",
       "      <th>fights_won</th>\n",
       "      <th>fights_lost</th>\n",
       "    </tr>\n",
       "  </thead>\n",
       "  <tbody>\n",
       "    <tr>\n",
       "      <th>0</th>\n",
       "      <td>101</td>\n",
       "      <td>2.0</td>\n",
       "      <td>NaN</td>\n",
       "    </tr>\n",
       "    <tr>\n",
       "      <th>1</th>\n",
       "      <td>102</td>\n",
       "      <td>1.0</td>\n",
       "      <td>2.0</td>\n",
       "    </tr>\n",
       "    <tr>\n",
       "      <th>2</th>\n",
       "      <td>103</td>\n",
       "      <td>1.0</td>\n",
       "      <td>1.0</td>\n",
       "    </tr>\n",
       "    <tr>\n",
       "      <th>4</th>\n",
       "      <td>105</td>\n",
       "      <td>1.0</td>\n",
       "      <td>1.0</td>\n",
       "    </tr>\n",
       "    <tr>\n",
       "      <th>3</th>\n",
       "      <td>104</td>\n",
       "      <td>NaN</td>\n",
       "      <td>1.0</td>\n",
       "    </tr>\n",
       "  </tbody>\n",
       "</table>\n",
       "</div>"
      ],
      "text/plain": [
       "   robot_id  fights_won  fights_lost\n",
       "0       101         2.0          NaN\n",
       "1       102         1.0          2.0\n",
       "2       103         1.0          1.0\n",
       "4       105         1.0          1.0\n",
       "3       104         NaN          1.0"
      ]
     },
     "execution_count": 45,
     "metadata": {},
     "output_type": "execute_result"
    }
   ],
   "source": [
    "win_loss_stats.sort_values(by=[\"fights_won\"],ascending=False)"
   ]
  },
  {
   "cell_type": "code",
   "execution_count": 46,
   "id": "12488e24-a7ef-48fe-ba76-711710d4ecd9",
   "metadata": {},
   "outputs": [
    {
     "data": {
      "text/html": [
       "<div>\n",
       "<style scoped>\n",
       "    .dataframe tbody tr th:only-of-type {\n",
       "        vertical-align: middle;\n",
       "    }\n",
       "\n",
       "    .dataframe tbody tr th {\n",
       "        vertical-align: top;\n",
       "    }\n",
       "\n",
       "    .dataframe thead th {\n",
       "        text-align: right;\n",
       "    }\n",
       "</style>\n",
       "<table border=\"1\" class=\"dataframe\">\n",
       "  <thead>\n",
       "    <tr style=\"text-align: right;\">\n",
       "      <th></th>\n",
       "      <th>robot_id</th>\n",
       "      <th>tournament</th>\n",
       "      <th>earnings</th>\n",
       "    </tr>\n",
       "  </thead>\n",
       "  <tbody>\n",
       "    <tr>\n",
       "      <th>0</th>\n",
       "      <td>101</td>\n",
       "      <td>Steel Showdown</td>\n",
       "      <td>$5,000</td>\n",
       "    </tr>\n",
       "    <tr>\n",
       "      <th>1</th>\n",
       "      <td>102</td>\n",
       "      <td>Cyber Clash</td>\n",
       "      <td>$2,500</td>\n",
       "    </tr>\n",
       "    <tr>\n",
       "      <th>2</th>\n",
       "      <td>103</td>\n",
       "      <td>Mech Madness</td>\n",
       "      <td>$3,200</td>\n",
       "    </tr>\n",
       "    <tr>\n",
       "      <th>3</th>\n",
       "      <td>104</td>\n",
       "      <td>Steel Showdown</td>\n",
       "      <td>$4,100</td>\n",
       "    </tr>\n",
       "    <tr>\n",
       "      <th>4</th>\n",
       "      <td>105</td>\n",
       "      <td>Cyber Clash</td>\n",
       "      <td>$2,800</td>\n",
       "    </tr>\n",
       "    <tr>\n",
       "      <th>5</th>\n",
       "      <td>105</td>\n",
       "      <td>Hardware Defiance</td>\n",
       "      <td>$1,800</td>\n",
       "    </tr>\n",
       "    <tr>\n",
       "      <th>6</th>\n",
       "      <td>103</td>\n",
       "      <td>Hardware Defiance</td>\n",
       "      <td>$3,200</td>\n",
       "    </tr>\n",
       "  </tbody>\n",
       "</table>\n",
       "</div>"
      ],
      "text/plain": [
       "   robot_id         tournament earnings\n",
       "0       101     Steel Showdown   $5,000\n",
       "1       102        Cyber Clash   $2,500\n",
       "2       103       Mech Madness   $3,200\n",
       "3       104     Steel Showdown   $4,100\n",
       "4       105        Cyber Clash   $2,800\n",
       "5       105  Hardware Defiance   $1,800\n",
       "6       103  Hardware Defiance   $3,200"
      ]
     },
     "execution_count": 46,
     "metadata": {},
     "output_type": "execute_result"
    }
   ],
   "source": [
    "tournaments_df"
   ]
  },
  {
   "cell_type": "code",
   "execution_count": 47,
   "id": "0b728bd4-e69c-426a-a292-1be737a2b435",
   "metadata": {},
   "outputs": [],
   "source": [
    "robots_earning_df = pd.merge(robots_df, tournaments_df, on = \"robot_id\", how = \"inner\")"
   ]
  },
  {
   "cell_type": "code",
   "execution_count": 48,
   "id": "a3292efd-62a0-4908-804c-acc86583d4e0",
   "metadata": {},
   "outputs": [
    {
     "data": {
      "text/html": [
       "<div>\n",
       "<style scoped>\n",
       "    .dataframe tbody tr th:only-of-type {\n",
       "        vertical-align: middle;\n",
       "    }\n",
       "\n",
       "    .dataframe tbody tr th {\n",
       "        vertical-align: top;\n",
       "    }\n",
       "\n",
       "    .dataframe thead th {\n",
       "        text-align: right;\n",
       "    }\n",
       "</style>\n",
       "<table border=\"1\" class=\"dataframe\">\n",
       "  <thead>\n",
       "    <tr style=\"text-align: right;\">\n",
       "      <th></th>\n",
       "      <th>robot_id</th>\n",
       "      <th>robot_name</th>\n",
       "      <th>weight_class</th>\n",
       "      <th>team_id</th>\n",
       "      <th>attack_power</th>\n",
       "      <th>defense_rating</th>\n",
       "      <th>tournament</th>\n",
       "      <th>earnings</th>\n",
       "    </tr>\n",
       "  </thead>\n",
       "  <tbody>\n",
       "    <tr>\n",
       "      <th>0</th>\n",
       "      <td>101</td>\n",
       "      <td>TitanFist</td>\n",
       "      <td>Heavyweight</td>\n",
       "      <td>1</td>\n",
       "      <td>95</td>\n",
       "      <td>88</td>\n",
       "      <td>Steel Showdown</td>\n",
       "      <td>$5,000</td>\n",
       "    </tr>\n",
       "    <tr>\n",
       "      <th>1</th>\n",
       "      <td>102</td>\n",
       "      <td>MechaRex</td>\n",
       "      <td>Lightweight</td>\n",
       "      <td>2</td>\n",
       "      <td>75</td>\n",
       "      <td>65</td>\n",
       "      <td>Cyber Clash</td>\n",
       "      <td>$2,500</td>\n",
       "    </tr>\n",
       "    <tr>\n",
       "      <th>2</th>\n",
       "      <td>103</td>\n",
       "      <td>VoltStriker</td>\n",
       "      <td>Middleweight</td>\n",
       "      <td>3</td>\n",
       "      <td>85</td>\n",
       "      <td>78</td>\n",
       "      <td>Mech Madness</td>\n",
       "      <td>$3,200</td>\n",
       "    </tr>\n",
       "    <tr>\n",
       "      <th>3</th>\n",
       "      <td>103</td>\n",
       "      <td>VoltStriker</td>\n",
       "      <td>Middleweight</td>\n",
       "      <td>3</td>\n",
       "      <td>85</td>\n",
       "      <td>78</td>\n",
       "      <td>Hardware Defiance</td>\n",
       "      <td>$3,200</td>\n",
       "    </tr>\n",
       "    <tr>\n",
       "      <th>4</th>\n",
       "      <td>104</td>\n",
       "      <td>IronClaw</td>\n",
       "      <td>Heavyweight</td>\n",
       "      <td>1</td>\n",
       "      <td>92</td>\n",
       "      <td>90</td>\n",
       "      <td>Steel Showdown</td>\n",
       "      <td>$4,100</td>\n",
       "    </tr>\n",
       "    <tr>\n",
       "      <th>5</th>\n",
       "      <td>105</td>\n",
       "      <td>ShadowViper</td>\n",
       "      <td>Lightweight</td>\n",
       "      <td>2</td>\n",
       "      <td>78</td>\n",
       "      <td>72</td>\n",
       "      <td>Cyber Clash</td>\n",
       "      <td>$2,800</td>\n",
       "    </tr>\n",
       "    <tr>\n",
       "      <th>6</th>\n",
       "      <td>105</td>\n",
       "      <td>ShadowViper</td>\n",
       "      <td>Lightweight</td>\n",
       "      <td>2</td>\n",
       "      <td>78</td>\n",
       "      <td>72</td>\n",
       "      <td>Hardware Defiance</td>\n",
       "      <td>$1,800</td>\n",
       "    </tr>\n",
       "  </tbody>\n",
       "</table>\n",
       "</div>"
      ],
      "text/plain": [
       "   robot_id   robot_name  weight_class  team_id  attack_power  defense_rating  \\\n",
       "0       101    TitanFist   Heavyweight        1            95              88   \n",
       "1       102     MechaRex   Lightweight        2            75              65   \n",
       "2       103  VoltStriker  Middleweight        3            85              78   \n",
       "3       103  VoltStriker  Middleweight        3            85              78   \n",
       "4       104     IronClaw   Heavyweight        1            92              90   \n",
       "5       105  ShadowViper   Lightweight        2            78              72   \n",
       "6       105  ShadowViper   Lightweight        2            78              72   \n",
       "\n",
       "          tournament earnings  \n",
       "0     Steel Showdown   $5,000  \n",
       "1        Cyber Clash   $2,500  \n",
       "2       Mech Madness   $3,200  \n",
       "3  Hardware Defiance   $3,200  \n",
       "4     Steel Showdown   $4,100  \n",
       "5        Cyber Clash   $2,800  \n",
       "6  Hardware Defiance   $1,800  "
      ]
     },
     "execution_count": 48,
     "metadata": {},
     "output_type": "execute_result"
    }
   ],
   "source": [
    "robots_earning_df"
   ]
  },
  {
   "cell_type": "code",
   "execution_count": 49,
   "id": "f11bf68d-234d-4f67-a7bd-7c05a20545e2",
   "metadata": {},
   "outputs": [
    {
     "data": {
      "text/plain": [
       "robot_id                   int64\n",
       "robot_name        string[python]\n",
       "weight_class              object\n",
       "team_id                    int64\n",
       "attack_power               int64\n",
       "defense_rating             int64\n",
       "tournament                object\n",
       "earnings                  object\n",
       "dtype: object"
      ]
     },
     "execution_count": 49,
     "metadata": {},
     "output_type": "execute_result"
    }
   ],
   "source": [
    "robots_earning_df.dtypes"
   ]
  },
  {
   "cell_type": "code",
   "execution_count": 56,
   "id": "d4ec95c2-6bab-4809-bb0a-288a547a3b4e",
   "metadata": {},
   "outputs": [],
   "source": [
    "robots_earning_df[\"earnings\"] = robots_earning_df[\"earnings\"].str.replace(r'[$\\,]', '', regex=True).astype(int)"
   ]
  },
  {
   "cell_type": "code",
   "execution_count": 57,
   "id": "31eff488-59f7-498e-9b91-8ede28e27082",
   "metadata": {},
   "outputs": [
    {
     "data": {
      "text/html": [
       "<div>\n",
       "<style scoped>\n",
       "    .dataframe tbody tr th:only-of-type {\n",
       "        vertical-align: middle;\n",
       "    }\n",
       "\n",
       "    .dataframe tbody tr th {\n",
       "        vertical-align: top;\n",
       "    }\n",
       "\n",
       "    .dataframe thead th {\n",
       "        text-align: right;\n",
       "    }\n",
       "</style>\n",
       "<table border=\"1\" class=\"dataframe\">\n",
       "  <thead>\n",
       "    <tr style=\"text-align: right;\">\n",
       "      <th></th>\n",
       "      <th>robot_id</th>\n",
       "      <th>robot_name</th>\n",
       "      <th>weight_class</th>\n",
       "      <th>team_id</th>\n",
       "      <th>attack_power</th>\n",
       "      <th>defense_rating</th>\n",
       "      <th>tournament</th>\n",
       "      <th>earnings</th>\n",
       "    </tr>\n",
       "  </thead>\n",
       "  <tbody>\n",
       "    <tr>\n",
       "      <th>0</th>\n",
       "      <td>101</td>\n",
       "      <td>TitanFist</td>\n",
       "      <td>Heavyweight</td>\n",
       "      <td>1</td>\n",
       "      <td>95</td>\n",
       "      <td>88</td>\n",
       "      <td>Steel Showdown</td>\n",
       "      <td>5000</td>\n",
       "    </tr>\n",
       "    <tr>\n",
       "      <th>1</th>\n",
       "      <td>102</td>\n",
       "      <td>MechaRex</td>\n",
       "      <td>Lightweight</td>\n",
       "      <td>2</td>\n",
       "      <td>75</td>\n",
       "      <td>65</td>\n",
       "      <td>Cyber Clash</td>\n",
       "      <td>2500</td>\n",
       "    </tr>\n",
       "    <tr>\n",
       "      <th>2</th>\n",
       "      <td>103</td>\n",
       "      <td>VoltStriker</td>\n",
       "      <td>Middleweight</td>\n",
       "      <td>3</td>\n",
       "      <td>85</td>\n",
       "      <td>78</td>\n",
       "      <td>Mech Madness</td>\n",
       "      <td>3200</td>\n",
       "    </tr>\n",
       "    <tr>\n",
       "      <th>3</th>\n",
       "      <td>103</td>\n",
       "      <td>VoltStriker</td>\n",
       "      <td>Middleweight</td>\n",
       "      <td>3</td>\n",
       "      <td>85</td>\n",
       "      <td>78</td>\n",
       "      <td>Hardware Defiance</td>\n",
       "      <td>3200</td>\n",
       "    </tr>\n",
       "    <tr>\n",
       "      <th>4</th>\n",
       "      <td>104</td>\n",
       "      <td>IronClaw</td>\n",
       "      <td>Heavyweight</td>\n",
       "      <td>1</td>\n",
       "      <td>92</td>\n",
       "      <td>90</td>\n",
       "      <td>Steel Showdown</td>\n",
       "      <td>4100</td>\n",
       "    </tr>\n",
       "    <tr>\n",
       "      <th>5</th>\n",
       "      <td>105</td>\n",
       "      <td>ShadowViper</td>\n",
       "      <td>Lightweight</td>\n",
       "      <td>2</td>\n",
       "      <td>78</td>\n",
       "      <td>72</td>\n",
       "      <td>Cyber Clash</td>\n",
       "      <td>2800</td>\n",
       "    </tr>\n",
       "    <tr>\n",
       "      <th>6</th>\n",
       "      <td>105</td>\n",
       "      <td>ShadowViper</td>\n",
       "      <td>Lightweight</td>\n",
       "      <td>2</td>\n",
       "      <td>78</td>\n",
       "      <td>72</td>\n",
       "      <td>Hardware Defiance</td>\n",
       "      <td>1800</td>\n",
       "    </tr>\n",
       "  </tbody>\n",
       "</table>\n",
       "</div>"
      ],
      "text/plain": [
       "   robot_id   robot_name  weight_class  team_id  attack_power  defense_rating  \\\n",
       "0       101    TitanFist   Heavyweight        1            95              88   \n",
       "1       102     MechaRex   Lightweight        2            75              65   \n",
       "2       103  VoltStriker  Middleweight        3            85              78   \n",
       "3       103  VoltStriker  Middleweight        3            85              78   \n",
       "4       104     IronClaw   Heavyweight        1            92              90   \n",
       "5       105  ShadowViper   Lightweight        2            78              72   \n",
       "6       105  ShadowViper   Lightweight        2            78              72   \n",
       "\n",
       "          tournament  earnings  \n",
       "0     Steel Showdown      5000  \n",
       "1        Cyber Clash      2500  \n",
       "2       Mech Madness      3200  \n",
       "3  Hardware Defiance      3200  \n",
       "4     Steel Showdown      4100  \n",
       "5        Cyber Clash      2800  \n",
       "6  Hardware Defiance      1800  "
      ]
     },
     "execution_count": 57,
     "metadata": {},
     "output_type": "execute_result"
    }
   ],
   "source": [
    "robots_earning_df"
   ]
  },
  {
   "cell_type": "code",
   "execution_count": 58,
   "id": "3b491196-428b-4a48-84d7-b887a35ed820",
   "metadata": {},
   "outputs": [
    {
     "data": {
      "text/plain": [
       "robot_id                   int64\n",
       "robot_name        string[python]\n",
       "weight_class              object\n",
       "team_id                    int64\n",
       "attack_power               int64\n",
       "defense_rating             int64\n",
       "tournament                object\n",
       "earnings                   int32\n",
       "dtype: object"
      ]
     },
     "execution_count": 58,
     "metadata": {},
     "output_type": "execute_result"
    }
   ],
   "source": [
    "robots_earning_df.dtypes"
   ]
  },
  {
   "cell_type": "code",
   "execution_count": 63,
   "id": "b4478247-bc77-4394-b782-1a291a9983cc",
   "metadata": {},
   "outputs": [
    {
     "data": {
      "text/html": [
       "<div>\n",
       "<style scoped>\n",
       "    .dataframe tbody tr th:only-of-type {\n",
       "        vertical-align: middle;\n",
       "    }\n",
       "\n",
       "    .dataframe tbody tr th {\n",
       "        vertical-align: top;\n",
       "    }\n",
       "\n",
       "    .dataframe thead th {\n",
       "        text-align: right;\n",
       "    }\n",
       "</style>\n",
       "<table border=\"1\" class=\"dataframe\">\n",
       "  <thead>\n",
       "    <tr style=\"text-align: right;\">\n",
       "      <th></th>\n",
       "      <th>robot_id</th>\n",
       "      <th>total_robot_earnings</th>\n",
       "      <th>team_id</th>\n",
       "    </tr>\n",
       "  </thead>\n",
       "  <tbody>\n",
       "    <tr>\n",
       "      <th>0</th>\n",
       "      <td>101</td>\n",
       "      <td>5000</td>\n",
       "      <td>1</td>\n",
       "    </tr>\n",
       "    <tr>\n",
       "      <th>1</th>\n",
       "      <td>102</td>\n",
       "      <td>2500</td>\n",
       "      <td>2</td>\n",
       "    </tr>\n",
       "    <tr>\n",
       "      <th>2</th>\n",
       "      <td>103</td>\n",
       "      <td>6400</td>\n",
       "      <td>3</td>\n",
       "    </tr>\n",
       "    <tr>\n",
       "      <th>3</th>\n",
       "      <td>104</td>\n",
       "      <td>4100</td>\n",
       "      <td>1</td>\n",
       "    </tr>\n",
       "    <tr>\n",
       "      <th>4</th>\n",
       "      <td>105</td>\n",
       "      <td>4600</td>\n",
       "      <td>2</td>\n",
       "    </tr>\n",
       "  </tbody>\n",
       "</table>\n",
       "</div>"
      ],
      "text/plain": [
       "   robot_id  total_robot_earnings  team_id\n",
       "0       101                  5000        1\n",
       "1       102                  2500        2\n",
       "2       103                  6400        3\n",
       "3       104                  4100        1\n",
       "4       105                  4600        2"
      ]
     },
     "execution_count": 63,
     "metadata": {},
     "output_type": "execute_result"
    }
   ],
   "source": [
    "total_robot_earnings_df = robots_earning_df.groupby(\"robot_id\").agg(\n",
    "    total_robot_earnings = (\"earnings\", \"sum\"),\n",
    "    team_id = (\"team_id\", \"first\")\n",
    ").reset_index()\n",
    "total_robot_earnings_df"
   ]
  },
  {
   "cell_type": "code",
   "execution_count": 64,
   "id": "a1a5504f-a7bb-4158-8562-3e650b3515a3",
   "metadata": {},
   "outputs": [],
   "source": [
    "total_robot_earnings_df[\"total_team_earnings\"] = total_robot_earnings_df.groupby(\"team_id\")[\"total_robot_earnings\"].sum()"
   ]
  },
  {
   "cell_type": "code",
   "execution_count": 65,
   "id": "0ebc07d2-f957-49f7-bd3f-56f14ad5c95d",
   "metadata": {},
   "outputs": [
    {
     "data": {
      "text/html": [
       "<div>\n",
       "<style scoped>\n",
       "    .dataframe tbody tr th:only-of-type {\n",
       "        vertical-align: middle;\n",
       "    }\n",
       "\n",
       "    .dataframe tbody tr th {\n",
       "        vertical-align: top;\n",
       "    }\n",
       "\n",
       "    .dataframe thead th {\n",
       "        text-align: right;\n",
       "    }\n",
       "</style>\n",
       "<table border=\"1\" class=\"dataframe\">\n",
       "  <thead>\n",
       "    <tr style=\"text-align: right;\">\n",
       "      <th></th>\n",
       "      <th>robot_id</th>\n",
       "      <th>total_robot_earnings</th>\n",
       "      <th>team_id</th>\n",
       "      <th>total_team_earnings</th>\n",
       "    </tr>\n",
       "  </thead>\n",
       "  <tbody>\n",
       "    <tr>\n",
       "      <th>0</th>\n",
       "      <td>101</td>\n",
       "      <td>5000</td>\n",
       "      <td>1</td>\n",
       "      <td>NaN</td>\n",
       "    </tr>\n",
       "    <tr>\n",
       "      <th>1</th>\n",
       "      <td>102</td>\n",
       "      <td>2500</td>\n",
       "      <td>2</td>\n",
       "      <td>9100.0</td>\n",
       "    </tr>\n",
       "    <tr>\n",
       "      <th>2</th>\n",
       "      <td>103</td>\n",
       "      <td>6400</td>\n",
       "      <td>3</td>\n",
       "      <td>7100.0</td>\n",
       "    </tr>\n",
       "    <tr>\n",
       "      <th>3</th>\n",
       "      <td>104</td>\n",
       "      <td>4100</td>\n",
       "      <td>1</td>\n",
       "      <td>6400.0</td>\n",
       "    </tr>\n",
       "    <tr>\n",
       "      <th>4</th>\n",
       "      <td>105</td>\n",
       "      <td>4600</td>\n",
       "      <td>2</td>\n",
       "      <td>NaN</td>\n",
       "    </tr>\n",
       "  </tbody>\n",
       "</table>\n",
       "</div>"
      ],
      "text/plain": [
       "   robot_id  total_robot_earnings  team_id  total_team_earnings\n",
       "0       101                  5000        1                  NaN\n",
       "1       102                  2500        2               9100.0\n",
       "2       103                  6400        3               7100.0\n",
       "3       104                  4100        1               6400.0\n",
       "4       105                  4600        2                  NaN"
      ]
     },
     "execution_count": 65,
     "metadata": {},
     "output_type": "execute_result"
    }
   ],
   "source": [
    "total_robot_earnings_df"
   ]
  },
  {
   "cell_type": "code",
   "execution_count": 66,
   "id": "03e6b0c5-c627-4bb7-b417-37dea5ac4841",
   "metadata": {},
   "outputs": [
    {
     "data": {
      "text/html": [
       "<div>\n",
       "<style scoped>\n",
       "    .dataframe tbody tr th:only-of-type {\n",
       "        vertical-align: middle;\n",
       "    }\n",
       "\n",
       "    .dataframe tbody tr th {\n",
       "        vertical-align: top;\n",
       "    }\n",
       "\n",
       "    .dataframe thead th {\n",
       "        text-align: right;\n",
       "    }\n",
       "</style>\n",
       "<table border=\"1\" class=\"dataframe\">\n",
       "  <thead>\n",
       "    <tr style=\"text-align: right;\">\n",
       "      <th></th>\n",
       "      <th>robot_id</th>\n",
       "      <th>total_robot_earnings</th>\n",
       "      <th>team_id</th>\n",
       "      <th>total_team_earnings</th>\n",
       "    </tr>\n",
       "  </thead>\n",
       "  <tbody>\n",
       "    <tr>\n",
       "      <th>0</th>\n",
       "      <td>101</td>\n",
       "      <td>5000</td>\n",
       "      <td>1</td>\n",
       "      <td>0.0</td>\n",
       "    </tr>\n",
       "    <tr>\n",
       "      <th>1</th>\n",
       "      <td>102</td>\n",
       "      <td>2500</td>\n",
       "      <td>2</td>\n",
       "      <td>9100.0</td>\n",
       "    </tr>\n",
       "    <tr>\n",
       "      <th>2</th>\n",
       "      <td>103</td>\n",
       "      <td>6400</td>\n",
       "      <td>3</td>\n",
       "      <td>7100.0</td>\n",
       "    </tr>\n",
       "    <tr>\n",
       "      <th>3</th>\n",
       "      <td>104</td>\n",
       "      <td>4100</td>\n",
       "      <td>1</td>\n",
       "      <td>6400.0</td>\n",
       "    </tr>\n",
       "    <tr>\n",
       "      <th>4</th>\n",
       "      <td>105</td>\n",
       "      <td>4600</td>\n",
       "      <td>2</td>\n",
       "      <td>0.0</td>\n",
       "    </tr>\n",
       "  </tbody>\n",
       "</table>\n",
       "</div>"
      ],
      "text/plain": [
       "   robot_id  total_robot_earnings  team_id  total_team_earnings\n",
       "0       101                  5000        1                  0.0\n",
       "1       102                  2500        2               9100.0\n",
       "2       103                  6400        3               7100.0\n",
       "3       104                  4100        1               6400.0\n",
       "4       105                  4600        2                  0.0"
      ]
     },
     "execution_count": 66,
     "metadata": {},
     "output_type": "execute_result"
    }
   ],
   "source": [
    "total_robot_earnings_df.fillna(0)"
   ]
  },
  {
   "cell_type": "code",
   "execution_count": 69,
   "id": "e3d04ea5-9e92-48dc-8e74-4db73e1738b0",
   "metadata": {},
   "outputs": [],
   "source": [
    "import matplotlib.pyplot as plt"
   ]
  },
  {
   "cell_type": "code",
   "execution_count": 79,
   "id": "6d017b1a-2867-41c5-bce5-c02ae60ffc35",
   "metadata": {},
   "outputs": [
    {
     "data": {
      "text/plain": [
       "<function matplotlib.pyplot.show(close=None, block=None)>"
      ]
     },
     "execution_count": 79,
     "metadata": {},
     "output_type": "execute_result"
    },
    {
     "data": {
      "image/png": "[encoded data removed]",
      "text/plain": [
       "<Figure size 1000x600 with 1 Axes>"
      ]
     },
     "metadata": {},
     "output_type": "display_data"
    }
   ],
   "source": [
    "# create bar chart\n",
    "plt.figure(figsize=(10,6))\n",
    "bar_width = .35\n",
    "\n",
    "x=range(len(win_loss_stats))\n",
    "x\n",
    "\n",
    "#plot wins and losses  side by side\n",
    "\n",
    "plt.bar(x,win_loss_stats[\"fights_won\"], width = bar_width, label=\"Fights won\", color = \"green\")\n",
    "plt.bar([i+bar_width for i in x], win_loss_stats[\"fights_lost\"], width = bar_width, label=\"Fights lost\", color = \"red\")\n",
    "\n",
    "#set x-ticks and labels\n",
    "\n",
    "plt.xlabel(\"Robot ID\")\n",
    "plt.ylabel(\"Number of Fights\")\n",
    "plt.title(\"Fights won and lost by each robot\")\n",
    "plt.xticks([i + bar_width/ 2 for i in x], win_loss_stats[\"robot_id\"])\n",
    "plt.legend()\n",
    "plt.tight_layout()\n",
    "\n",
    "plt.show"
   ]
  },
  {
   "cell_type": "code",
   "execution_count": null,
   "id": "87d7ecf9-fff7-4f6f-ae22-51b9cb3dea61",
   "metadata": {},
   "outputs": [],
   "source": []
  }
 ],
 "metadata": {
  "kernelspec": {
   "display_name": "Python 3 (ipykernel)",
   "language": "python",
   "name": "python3"
  },
  "language_info": {
   "codemirror_mode": {
    "name": "ipython",
    "version": 3
   },
   "file_extension": ".py",
   "mimetype": "text/x-python",
   "name": "python",
   "nbconvert_exporter": "python",
   "pygments_lexer": "ipython3",
   "version": "3.12.4"
  }
 },
 "nbformat": 4,
 "nbformat_minor": 5
}
