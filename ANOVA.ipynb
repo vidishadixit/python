{
 "cells": [
  {
   "cell_type": "code",
   "execution_count": 1,
   "id": "20d5e979-f0a1-47be-9c1c-0efd4a5e2b88",
   "metadata": {},
   "outputs": [],
   "source": [
    "import numpy as np\n",
    "from scipy import stats\n",
    "import pandas as pd"
   ]
  },
  {
   "cell_type": "code",
   "execution_count": 2,
   "id": "46bcc76e-0b32-4458-ba4a-33c2731fad04",
   "metadata": {},
   "outputs": [],
   "source": [
    "np.random.seed(0)\n",
    "group1 =np.random.normal(5,1,30)\n",
    "group2 =np.random.normal(6,1,30)\n",
    "group3 = np.random.normal(7,1,30)"
   ]
  },
  {
   "cell_type": "code",
   "execution_count": 5,
   "id": "000619df-f2f1-48e0-8e0b-98547eca825c",
   "metadata": {},
   "outputs": [
    {
     "name": "stdout",
     "output_type": "stream",
     "text": [
      "f_statistic: 17.2958\n",
      "p_value: 0.0000\n",
      "Reject H0\n"
     ]
    }
   ],
   "source": [
    "f_statistic, p_value = stats.f_oneway(group1, group2, group3)\n",
    "\n",
    "alpha = 0.05\n",
    "\n",
    "print(f'f_statistic: {f_statistic:.4f}')\n",
    "print(f'p_value: {p_value:.4f}')\n",
    "\n",
    "if p_value <alpha:\n",
    "    print('Reject H0')\n",
    "else:\n",
    "    print('Fail to reject H0')"
   ]
  },
  {
   "cell_type": "code",
   "execution_count": null,
   "id": "f98655ad-c14f-4342-8d08-50c435150bea",
   "metadata": {},
   "outputs": [],
   "source": []
  }
 ],
 "metadata": {
  "kernelspec": {
   "display_name": "Python 3 (ipykernel)",
   "language": "python",
   "name": "python3"
  },
  "language_info": {
   "codemirror_mode": {
    "name": "ipython",
    "version": 3
   },
   "file_extension": ".py",
   "mimetype": "text/x-python",
   "name": "python",
   "nbconvert_exporter": "python",
   "pygments_lexer": "ipython3",
   "version": "3.12.4"
  }
 },
 "nbformat": 4,
 "nbformat_minor": 5
}
