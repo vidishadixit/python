{
 "cells": [
  {
   "cell_type": "code",
   "execution_count": 1,
   "id": "9771aec1-ef61-487a-9b4b-ab57052f708d",
   "metadata": {},
   "outputs": [],
   "source": [
    "import numpy as np\n",
    "from scipy import stats\n",
    "import pandas as pd"
   ]
  },
  {
   "cell_type": "code",
   "execution_count": 19,
   "id": "83861ae7-3a61-4d84-b2d7-25cbfc451687",
   "metadata": {},
   "outputs": [],
   "source": [
    "#step 1 : creating a contingency tabe:\n",
    "data ={'Category A':[70,75,80],\n",
    "       'Category B':[50,70,75],\n",
    "       'Category C':[60,65,70]}\n",
    "contingency_table = pd.DataFrame(data,index=['Group 1',' Group 2',' Group 3'])"
   ]
  },
  {
   "cell_type": "code",
   "execution_count": 20,
   "id": "53292dc0-630c-4078-9372-b3b0cafe32d5",
   "metadata": {},
   "outputs": [],
   "source": [
    "#step 2: Perform the chi-squared test\n",
    "chi2_statistic,p_value,dof,expected=stats.chi2_contingency(contingency_table)"
   ]
  },
  {
   "cell_type": "code",
   "execution_count": 21,
   "id": "4e8de475-96d2-4811-9d0e-9bc240fe5510",
   "metadata": {},
   "outputs": [],
   "source": [
    "alpha =0.05"
   ]
  },
  {
   "cell_type": "code",
   "execution_count": 22,
   "id": "06b0f3d5-450e-4a12-8786-a3a940b79ab9",
   "metadata": {},
   "outputs": [
    {
     "name": "stdout",
     "output_type": "stream",
     "text": [
      "chi-squared statistics:1.8222\n",
      "P-value:0.7684\n",
      "Degrees of freedom:4.0000\n",
      "ExpectedFrequencies:\n",
      "[[65.85365854 57.07317073 57.07317073]\n",
      " [76.82926829 66.58536585 66.58536585]\n",
      " [82.31707317 71.34146341 71.34146341]]\n"
     ]
    }
   ],
   "source": [
    "print(f'chi-squared statistics:{chi2_statistic:.4f}')\n",
    "print(f'P-value:{p_value:.4f}')\n",
    "print(f'Degrees of freedom:{dof:.4f}')\n",
    "print(f'ExpectedFrequencies:\\n{expected}')"
   ]
  },
  {
   "cell_type": "code",
   "execution_count": 23,
   "id": "12d06bb7-7e56-4ef0-b6c7-a5c66c2672df",
   "metadata": {},
   "outputs": [
    {
     "name": "stdout",
     "output_type": "stream",
     "text": [
      "Fail to reject H0\n"
     ]
    }
   ],
   "source": [
    "if p_value <alpha:\n",
    "    print('Reject H0')\n",
    "else:\n",
    "    print('Fail to reject H0')"
   ]
  },
  {
   "cell_type": "code",
   "execution_count": null,
   "id": "3cc5c6c4-5c65-4ec1-a2bc-09bc93c41cbb",
   "metadata": {},
   "outputs": [],
   "source": []
  }
 ],
 "metadata": {
  "kernelspec": {
   "display_name": "Python 3 (ipykernel)",
   "language": "python",
   "name": "python3"
  },
  "language_info": {
   "codemirror_mode": {
    "name": "ipython",
    "version": 3
   },
   "file_extension": ".py",
   "mimetype": "text/x-python",
   "name": "python",
   "nbconvert_exporter": "python",
   "pygments_lexer": "ipython3",
   "version": "3.12.4"
  }
 },
 "nbformat": 4,
 "nbformat_minor": 5
}
